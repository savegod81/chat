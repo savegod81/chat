{
 "cells": [
  {
   "cell_type": "markdown",
   "id": "a824ba38-3326-429d-ba62-43af9efa96b1",
   "metadata": {},
   "source": [
    "# First, check your python env and install pandas"
   ]
  },
  {
   "cell_type": "code",
   "execution_count": null,
   "id": "0ad802e8-f4ff-4cdc-9882-092caed9bb2b",
   "metadata": {},
   "outputs": [],
   "source": [
    "!pip install pandas"
   ]
  },
  {
   "cell_type": "markdown",
   "id": "b22ab39e-4c1d-4c6f-be02-91e1a3b8fcc3",
   "metadata": {},
   "source": [
    "# Pandas intro\n",
    "## 1. Pandas works best with tabular data(csv for example)\n",
    "## 2. Actions like \n",
    "  - explore\n",
    "  - clean\n",
    "  - customized process\n",
    "#  3. Glossory\n",
    " * DataFrame: the data table represents the tabular data\n",
    " * Series: column in the DataFrame"
   ]
  },
  {
   "cell_type": "code",
   "execution_count": 2,
   "id": "5b71cb6e-e644-4e65-bda7-055dfe4da60c",
   "metadata": {},
   "outputs": [],
   "source": [
    "import pandas as pd"
   ]
  },
  {
   "cell_type": "code",
   "execution_count": 3,
   "id": "e69e7f6d-1c6c-42ec-937a-e3fe142a0708",
   "metadata": {},
   "outputs": [
    {
     "data": {
      "text/html": [
       "<div>\n",
       "<style scoped>\n",
       "    .dataframe tbody tr th:only-of-type {\n",
       "        vertical-align: middle;\n",
       "    }\n",
       "\n",
       "    .dataframe tbody tr th {\n",
       "        vertical-align: top;\n",
       "    }\n",
       "\n",
       "    .dataframe thead th {\n",
       "        text-align: right;\n",
       "    }\n",
       "</style>\n",
       "<table border=\"1\" class=\"dataframe\">\n",
       "  <thead>\n",
       "    <tr style=\"text-align: right;\">\n",
       "      <th></th>\n",
       "      <th>Name</th>\n",
       "      <th>Age</th>\n",
       "      <th>Sex</th>\n",
       "    </tr>\n",
       "  </thead>\n",
       "  <tbody>\n",
       "    <tr>\n",
       "      <th>0</th>\n",
       "      <td>Braund, Mr. Owen Harris</td>\n",
       "      <td>22</td>\n",
       "      <td>male</td>\n",
       "    </tr>\n",
       "    <tr>\n",
       "      <th>1</th>\n",
       "      <td>Allen, Mr. William Henry</td>\n",
       "      <td>35</td>\n",
       "      <td>male</td>\n",
       "    </tr>\n",
       "    <tr>\n",
       "      <th>2</th>\n",
       "      <td>Bonnell, Miss. Elizabeth</td>\n",
       "      <td>58</td>\n",
       "      <td>female</td>\n",
       "    </tr>\n",
       "  </tbody>\n",
       "</table>\n",
       "</div>"
      ],
      "text/plain": [
       "                       Name  Age     Sex\n",
       "0   Braund, Mr. Owen Harris   22    male\n",
       "1  Allen, Mr. William Henry   35    male\n",
       "2  Bonnell, Miss. Elizabeth   58  female"
      ]
     },
     "execution_count": 3,
     "metadata": {},
     "output_type": "execute_result"
    }
   ],
   "source": [
    "df = pd.DataFrame(\n",
    "    {\n",
    "        \"Name\": [\n",
    "            \"Braund, Mr. Owen Harris\",\n",
    "            \"Allen, Mr. William Henry\",\n",
    "            \"Bonnell, Miss. Elizabeth\",\n",
    "        ],\n",
    "        \"Age\": [22, 35, 58],\n",
    "        \"Sex\": [\"male\", \"male\", \"female\"],\n",
    "    }\n",
    ")\n",
    "\n",
    "\n",
    "df"
   ]
  },
  {
   "cell_type": "markdown",
   "id": "85bbb563-4ec6-4832-9e91-6c3878fb5042",
   "metadata": {},
   "source": [
    "# Series selection"
   ]
  },
  {
   "cell_type": "code",
   "execution_count": 4,
   "id": "386241ce-8881-4d35-91ae-475ee0348f3c",
   "metadata": {},
   "outputs": [
    {
     "data": {
      "text/plain": [
       "0     Braund, Mr. Owen Harris\n",
       "1    Allen, Mr. William Henry\n",
       "2    Bonnell, Miss. Elizabeth\n",
       "Name: Name, dtype: object"
      ]
     },
     "execution_count": 4,
     "metadata": {},
     "output_type": "execute_result"
    }
   ],
   "source": [
    "df[\"Name\"]"
   ]
  },
  {
   "cell_type": "markdown",
   "id": "e60b1e2a-c8e1-4d32-bf3d-748dc601078d",
   "metadata": {},
   "source": [
    "# Or create a Series by hand"
   ]
  },
  {
   "cell_type": "code",
   "execution_count": 22,
   "id": "7864934d-7ed1-4253-ae3c-fbd2a3473681",
   "metadata": {},
   "outputs": [
    {
     "name": "stdout",
     "output_type": "stream",
     "text": [
      "min:15, max:18\n",
      "min:15, max:18\n"
     ]
    }
   ],
   "source": [
    "p_ages = pd.Series([15,16,17,18], name=\"Age\")\n",
    "age_min = p_ages.min()\n",
    "age_max = p_ages.max()\n",
    "print(\"min:{}, max:{}\".format(p_ages.min(),p_ages.max()))\n",
    "print(f\"min:{age_min}, max:{age_max}\")"
   ]
  },
  {
   "cell_type": "markdown",
   "id": "cd159b28-10fe-4113-8411-040aa989c575",
   "metadata": {},
   "source": [
    "# Load Data from csv file"
   ]
  },
  {
   "cell_type": "code",
   "execution_count": 31,
   "id": "ecb63880-67c5-4201-a76f-5299ae742ef3",
   "metadata": {},
   "outputs": [
    {
     "data": {
      "text/html": [
       "<div>\n",
       "<style scoped>\n",
       "    .dataframe tbody tr th:only-of-type {\n",
       "        vertical-align: middle;\n",
       "    }\n",
       "\n",
       "    .dataframe tbody tr th {\n",
       "        vertical-align: top;\n",
       "    }\n",
       "\n",
       "    .dataframe thead th {\n",
       "        text-align: right;\n",
       "    }\n",
       "</style>\n",
       "<table border=\"1\" class=\"dataframe\">\n",
       "  <thead>\n",
       "    <tr style=\"text-align: right;\">\n",
       "      <th></th>\n",
       "      <th>pedal length</th>\n",
       "      <th>pedal width</th>\n",
       "      <th>septal length</th>\n",
       "      <th>septal width</th>\n",
       "      <th>\"class\"</th>\n",
       "    </tr>\n",
       "  </thead>\n",
       "  <tbody>\n",
       "    <tr>\n",
       "      <th>0</th>\n",
       "      <td>5.1</td>\n",
       "      <td>3.5</td>\n",
       "      <td>1.4</td>\n",
       "      <td>0.2</td>\n",
       "      <td>Iris-setosa</td>\n",
       "    </tr>\n",
       "    <tr>\n",
       "      <th>1</th>\n",
       "      <td>4.9</td>\n",
       "      <td>3.0</td>\n",
       "      <td>1.4</td>\n",
       "      <td>0.2</td>\n",
       "      <td>Iris-setosa</td>\n",
       "    </tr>\n",
       "    <tr>\n",
       "      <th>2</th>\n",
       "      <td>4.7</td>\n",
       "      <td>3.2</td>\n",
       "      <td>1.3</td>\n",
       "      <td>0.2</td>\n",
       "      <td>Iris-setosa</td>\n",
       "    </tr>\n",
       "    <tr>\n",
       "      <th>3</th>\n",
       "      <td>4.6</td>\n",
       "      <td>3.1</td>\n",
       "      <td>1.5</td>\n",
       "      <td>0.2</td>\n",
       "      <td>Iris-setosa</td>\n",
       "    </tr>\n",
       "    <tr>\n",
       "      <th>4</th>\n",
       "      <td>5.0</td>\n",
       "      <td>3.6</td>\n",
       "      <td>1.4</td>\n",
       "      <td>0.2</td>\n",
       "      <td>Iris-setosa</td>\n",
       "    </tr>\n",
       "  </tbody>\n",
       "</table>\n",
       "</div>"
      ],
      "text/plain": [
       "   pedal length  pedal width  septal length  septal width      \"class\"\n",
       "0           5.1          3.5            1.4           0.2  Iris-setosa\n",
       "1           4.9          3.0            1.4           0.2  Iris-setosa\n",
       "2           4.7          3.2            1.3           0.2  Iris-setosa\n",
       "3           4.6          3.1            1.5           0.2  Iris-setosa\n",
       "4           5.0          3.6            1.4           0.2  Iris-setosa"
      ]
     },
     "execution_count": 31,
     "metadata": {},
     "output_type": "execute_result"
    }
   ],
   "source": [
    "df = pd.read_csv(\"iris/iris.data\")\n",
    "df.head()"
   ]
  },
  {
   "cell_type": "code",
   "execution_count": 33,
   "id": "c3a1cf88-5e7d-43f6-b879-ca9f9238c303",
   "metadata": {},
   "outputs": [
    {
     "name": "stdout",
     "output_type": "stream",
     "text": [
      "   pedal length  pedal width  septal length  septal width      \"class\"\n",
      "0           5.1          3.5            1.4           0.2  Iris-setosa\n",
      "1           4.9          3.0            1.4           0.2  Iris-setosa\n",
      "2           4.7          3.2            1.3           0.2  Iris-setosa\n",
      "--------------------------------------------------------------------------------\n",
      "     pedal length  pedal width  septal length  septal width         \"class\"\n",
      "147           6.5          3.0            5.2           2.0  Iris-virginica\n",
      "148           6.2          3.4            5.4           2.3  Iris-virginica\n",
      "149           5.9          3.0            5.1           1.8  Iris-virginica\n",
      "--------------------------------------------------------------------------------\n",
      "pedal length     float64\n",
      "pedal width      float64\n",
      "septal length    float64\n",
      "septal width     float64\n",
      " \"class\"          object\n",
      "dtype: object\n"
     ]
    }
   ],
   "source": [
    "# show first N rows\n",
    "print(df.head(3))\n",
    "print(\"-\"*80)\n",
    "\n",
    "#show last N rows\n",
    "print(df.tail(3))\n",
    "print(\"-\"*80)\n",
    "\n",
    "#check the frame's column data type\n",
    "print(df.dtypes)\n"
   ]
  },
  {
   "cell_type": "code",
   "execution_count": 34,
   "id": "d046533d-b907-4e25-aeaf-410991af182a",
   "metadata": {},
   "outputs": [
    {
     "name": "stdout",
     "output_type": "stream",
     "text": [
      "<class 'pandas.core.frame.DataFrame'>\n",
      "RangeIndex: 150 entries, 0 to 149\n",
      "Data columns (total 5 columns):\n",
      " #   Column         Non-Null Count  Dtype  \n",
      "---  ------         --------------  -----  \n",
      " 0   pedal length   150 non-null    float64\n",
      " 1   pedal width    150 non-null    float64\n",
      " 2   septal length  150 non-null    float64\n",
      " 3   septal width   150 non-null    float64\n",
      " 4    \"class\"       150 non-null    object \n",
      "dtypes: float64(4), object(1)\n",
      "memory usage: 6.0+ KB\n"
     ]
    }
   ],
   "source": [
    "# Show the data frame's details\n",
    "df.info()"
   ]
  },
  {
   "cell_type": "code",
   "execution_count": null,
   "id": "a231782f-4923-478e-a61e-f4b644340069",
   "metadata": {},
   "outputs": [],
   "source": []
  }
 ],
 "metadata": {
  "kernelspec": {
   "display_name": "Python 3 (ipykernel)",
   "language": "python",
   "name": "python3"
  },
  "language_info": {
   "codemirror_mode": {
    "name": "ipython",
    "version": 3
   },
   "file_extension": ".py",
   "mimetype": "text/x-python",
   "name": "python",
   "nbconvert_exporter": "python",
   "pygments_lexer": "ipython3",
   "version": "3.10.12"
  }
 },
 "nbformat": 4,
 "nbformat_minor": 5
}
